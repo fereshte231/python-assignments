{
 "cells": [
  {
   "cell_type": "markdown",
   "id": "c8fe4f18",
   "metadata": {},
   "source": [
    "1) Write a function that normalizes a vector (finds the unit vector). A vector can be normalized by dividing each unique component of the vector by its size. Your input for this function will be a List(vector). For example if your input is: <br>\n",
    "vector = [3, 6, 9] <br>\n",
    "output:\n",
    "[0.2672612419124244, 0.5345224838248488, 0.8017837257372732]\n"
   ]
  },
  {
   "cell_type": "code",
   "execution_count": 111,
   "id": "c345915f",
   "metadata": {},
   "outputs": [
    {
     "name": "stdout",
     "output_type": "stream",
     "text": [
      "Enter your list: 4,5,6\n"
     ]
    },
    {
     "ename": "ValueError",
     "evalue": "invalid literal for int() with base 10: '4,5,6'",
     "output_type": "error",
     "traceback": [
      "\u001b[1;31m---------------------------------------------------------------------------\u001b[0m",
      "\u001b[1;31mValueError\u001b[0m                                Traceback (most recent call last)",
      "\u001b[1;32m<ipython-input-111-1626a86d61de>\u001b[0m in \u001b[0;36m<module>\u001b[1;34m\u001b[0m\n\u001b[0;32m      7\u001b[0m         \u001b[1;32mfor\u001b[0m \u001b[0mx\u001b[0m \u001b[1;32min\u001b[0m \u001b[0mvector\u001b[0m\u001b[1;33m:\u001b[0m\u001b[1;33m\u001b[0m\u001b[1;33m\u001b[0m\u001b[0m\n\u001b[0;32m      8\u001b[0m             \u001b[0munit_vector\u001b[0m\u001b[1;33m.\u001b[0m\u001b[0mappend\u001b[0m\u001b[1;33m(\u001b[0m\u001b[0mx\u001b[0m\u001b[1;33m/\u001b[0m\u001b[0my\u001b[0m\u001b[1;33m)\u001b[0m\u001b[1;33m\u001b[0m\u001b[1;33m\u001b[0m\u001b[0m\n\u001b[1;32m----> 9\u001b[1;33m \u001b[0mlist\u001b[0m\u001b[1;33m=\u001b[0m\u001b[0mint\u001b[0m\u001b[1;33m(\u001b[0m\u001b[0minput\u001b[0m\u001b[1;33m(\u001b[0m\u001b[1;34m'Enter your list: '\u001b[0m \u001b[1;33m)\u001b[0m\u001b[1;33m)\u001b[0m\u001b[1;33m\u001b[0m\u001b[1;33m\u001b[0m\u001b[0m\n\u001b[0m\u001b[0;32m     10\u001b[0m \u001b[0mvector\u001b[0m\u001b[1;33m(\u001b[0m\u001b[0mlist\u001b[0m\u001b[1;33m)\u001b[0m\u001b[1;33m\u001b[0m\u001b[1;33m\u001b[0m\u001b[0m\n",
      "\u001b[1;31mValueError\u001b[0m: invalid literal for int() with base 10: '4,5,6'"
     ]
    }
   ],
   "source": [
    "def vector(list):\n",
    "    y=0\n",
    "    for x in range(list):\n",
    "        y+=x**2\n",
    "        y = y**0.5\n",
    "        unitvector = []\n",
    "        for x in vector:\n",
    "            unitvector.append(x/y)\n",
    "list=int(input('Enter your list: ' ))        \n",
    "vector(list)    "
   ]
  },
  {
   "cell_type": "markdown",
   "id": "c693bca2",
   "metadata": {},
   "source": [
    "2) Write a function that calculates and returns the monthly payments for a loan. This function accepts three parameters in the exact order (principal, annual_interest_rate, duration): \n",
    "\n",
    "+ principal: The total amount of loan. Assume that the principal is a positive floating point number.\n",
    "\n",
    "+ annual_interest_rate: This is the percent interest rate per year. Assume that annual_interest_rate is a floating point number.\n",
    "(Notice that 4.5 means that the interest rate is 4.5 percent per year.)\n",
    "\n",
    "+ duration: number of years to pay the loan back. Assume that duration is a positive integer.\n",
    "\n",
    "To calculate the amount of monthly payment for the loan you should use the following equation\n",
    "\n",
    "    MonthlyPayment = Principal∗r(1+r)**n/((1+r)**n−1)\n",
    "\n",
    "Where:\n",
    "\n",
    "r is the monthly interest rate (shold be calculated by first dividing the annual_interest_rate by 100 and then divide the result by 12 to make it monthly).\n",
    "\n",
    "Notice that if the interest rate is equal to zero then the above equation will give you a ZeroDivisionError. In that case you should use the follwing equation:\n",
    "\n",
    "    MonthlyPayment = Principal/n\n",
    "\n",
    "n is the total number of monthly payments for the entire duration of the loan (Notice that n is equal to loan duration in years multiplied by 12).\n",
    "\n",
    "Your function should return the monthly payment as a floating point number.\n",
    "\n",
    "For Example if you enter : (1000.0, 4.5, 5) <br>\n",
    "The ouput would be : 18.643019241516996\n"
   ]
  },
  {
   "cell_type": "code",
   "execution_count": 3,
   "id": "934a6e95",
   "metadata": {},
   "outputs": [
    {
     "name": "stdout",
     "output_type": "stream",
     "text": [
      "Please enter your principal: 1000\n",
      "Please enter your annual interest rate: 4.5\n",
      "Please enter your duraion in years: 5\n",
      "18.643019241516996\n"
     ]
    }
   ],
   "source": [
    "def monthlypayments(principal, annual_interest_rate, duration):\n",
    "    r = annual_interest_rate/100/12\n",
    "    n = duration * 12\n",
    "    if r != 0:\n",
    "        payment = principal*r*(1+r)**n/((1+r)**n - 1)\n",
    "    else:\n",
    "        payment = principal/n\n",
    "    return payment\n",
    "\n",
    "p=float(input ('Please enter your principal: '))\n",
    "a= float(input ('Please enter your annual interest rate: '))\n",
    "d=int(input ('Please enter your duraion in years: '))\n",
    "\n",
    "monthly = monthlypayments(prinint, airint, durint)\n",
    "print (monthly)"
   ]
  },
  {
   "cell_type": "markdown",
   "id": "461b347f",
   "metadata": {},
   "source": [
    "3) Write a function that calculates and returns the remaining loan balance.\n",
    "\n",
    "This function accepts four parameters in the exact order shown below:\n",
    "(principal, annual_interest_rate, duration , number_of_payments)\n",
    "\n",
    "principal: The total amount of loan. Assume that the principal is positive floating point number.\n",
    "    \n",
    "annual_interest_rate: This is the percent interest rate per year. Assume that annual_interest_rate is a floating point number. (Notice that 4.5 means that the interest rate is 4.5 percent per year.)\n",
    "duration: number of years to pay the loan back. Assume that duration is a positive integer.\n",
    "    \n",
    "number_of_payments: number of monthly payments that are already paid. Assume that number_of_payments is an integer.\n",
    "To calculate the reamining loan balance use the following equation\n",
    "\n",
    "    RemainingLoanBalance = Principal∗((1+r)**n−(1+r)**p)/((1+r)**n−1)\n",
    "\n",
    "Where:\n",
    "    \n",
    "r is the monthly interest rate. r should be calculated by first dividing the annual_interest_rate by 100 and then divide the result by 12 to make it\n",
    "monthly. Notice that if the interest rate is equal to zero then the above equation will give you a ZeroDivisionError. In that case you should use\n",
    "the follwing equation: \n",
    "    \n",
    "    RemainingLoanBalance=Principal*(1−p/n)\n",
    "    \n",
    "n is the total number of monthly payments for the entire duration of the loan. Notice that n is equal to loan duration in years multiplied by 12.\n",
    "\n",
    "p is the number of payments which are already made.\n",
    "\n",
    "Your function should return the remaining balance as a floating point number.\n",
    "\n",
    "For Example if someone enters:<br>\n",
    "\n",
    "Please enter principal: 2000<br>\n",
    "Please enter annual interest rate: 5<br>\n",
    "Please enter duraion in years: 5<br>\n",
    "Please enter the number of payments: 12<br>\n",
    "\n",
    "The output should be:<br>\n",
    "\n",
    "1638.8894940368032"
   ]
  },
  {
   "cell_type": "code",
   "execution_count": null,
   "id": "7f4ac4a1",
   "metadata": {},
   "outputs": [],
   "source": []
  },
  {
   "cell_type": "markdown",
   "id": "57ddc1fe",
   "metadata": {},
   "source": [
    "4) Write a program for loan calculations.\n",
    "Your program should ask the user for three pieces of information\n",
    "(with three seperate input() functions:)\n",
    "\n",
    "+ The total amount of loan. Assume that the user enters a floating point number.\n",
    "+ Annual interest rate. Assume that the user enters a floating point number.\n",
    "(Notice that 4.5 means that the interest rate is 4.5 percent per year.)\n",
    "+ Total duration of loan in years. This is the number of years to pay the loan back. Assume that the user enters a positive integer.\n",
    "Also remember that the loan is paid back with monthly payments.\n",
    "\n",
    "Your Program should use the two functions that you implemented in\n",
    "Q2 and Q3 of this assignment and display the following\n",
    "information about the loan.\n",
    "\n",
    "In the first first line show the amount of loan and interest rate.\n",
    "In the second line show duration of the loan and monthly payment.\n",
    "In each of the following lines show the Loan balance and\n",
    "total amount paid for each year.\n",
    "\n",
    "    \n",
    "For Example if someone enters these numberes:<br>\n",
    "Enter loan amount: 2000<br>\n",
    "Enter annual interest rate (percent): 5<br>\n",
    "Enter loan duration in years: 12<br>\n",
    "\n",
    "The output would be:<br> \n",
    "    \n",
    "LOAN AMOUNT: 2000 INTEREST RATE (PERCENT): 5<br>\n",
    "DURATION (YEARS): 12 MONTHLY PAYMENT: 18<br>\n",
    "YEAR: 1 BALANCE: 1875 TOTAL PAYMENT 221<br>\n",
    "YEAR: 2 BALANCE: 1743 TOTAL PAYMENT 443<br>\n",
    "YEAR: 3 BALANCE: 1606 TOTAL PAYMENT 665<br>\n",
    "YEAR: 4 BALANCE: 1461 TOTAL PAYMENT 887<br>\n",
    "YEAR: 5 BALANCE: 1308 TOTAL PAYMENT 1109<br>\n",
    "YEAR: 6 BALANCE: 1148 TOTAL PAYMENT 1331<br>\n",
    "YEAR: 7 BALANCE: 980 TOTAL PAYMENT 1553<br>\n",
    "YEAR: 8 BALANCE: 803 TOTAL PAYMENT 1775<br>\n",
    "YEAR: 9 BALANCE: 617 TOTAL PAYMENT 1997<br>\n",
    "YEAR: 10 BALANCE: 421 TOTAL PAYMENT 2219<br>\n",
    "YEAR: 11 BALANCE: 216 TOTAL PAYMENT 2441<br>\n",
    "YEAR: 12 BALANCE: 0 TOTAL PAYMENT 2663  <br>"
   ]
  },
  {
   "cell_type": "code",
   "execution_count": null,
   "id": "d72f8094",
   "metadata": {},
   "outputs": [],
   "source": []
  },
  {
   "cell_type": "markdown",
   "id": "ffee11c5",
   "metadata": {},
   "source": [
    "5) Write a function that receives a list of integers as a parameter. Your function must return the sum of the odd numbers in this list. If there are no odd numbers in this list, your function must return 0 (zero number) as a sum."
   ]
  },
  {
   "cell_type": "code",
   "execution_count": 100,
   "id": "e3fd72c7",
   "metadata": {},
   "outputs": [
    {
     "name": "stdout",
     "output_type": "stream",
     "text": [
      "[1, 3, 5, 7, 9, 11, 13, 15, 17, 19] 100\n"
     ]
    }
   ],
   "source": [
    "def num_odd(list):\n",
    "    odd_nums = [nums for nums in list if nums % 2 != 0]\n",
    "    print(odd_nums,end = \" \")\n",
    "    if odd_nums:\n",
    "        return sum(odd_nums)\n",
    "        \n",
    "    else:\n",
    "        return 0\n",
    "\n",
    "mylist = range(20)\n",
    "\n",
    "print (num_odd(mylist))"
   ]
  },
  {
   "cell_type": "markdown",
   "id": "f9b17da3",
   "metadata": {},
   "source": [
    "6) Write a function that takes a number and returns True if the number is a perfect number; otherwise returns False. a perfect number is a positive integer that is equal to the sum of its positive divisors, excluding the number itself. For instance, 6 has divisors 1, 2 and 3 (excluding itself), and 1 + 2 + 3 = 6, so 6 is a perfect number."
   ]
  },
  {
   "cell_type": "code",
   "execution_count": 12,
   "id": "f0b99e15",
   "metadata": {},
   "outputs": [
    {
     "name": "stdout",
     "output_type": "stream",
     "text": [
      "Pleace enter your number6\n"
     ]
    },
    {
     "data": {
      "text/plain": [
       "True"
      ]
     },
     "execution_count": 12,
     "metadata": {},
     "output_type": "execute_result"
    }
   ],
   "source": [
    "def perfectnumber(n):\n",
    "    sum = 1\n",
    "    i = 2\n",
    "    while i * i <= n:\n",
    "        if n % i == 0:\n",
    "            sum = sum + i + n/i\n",
    "        i += 1\n",
    "    return (True if sum == n and n!=1 else False)\n",
    "n=int(input(\"Please enter your number\"))\n",
    "\n",
    "perfectnumber(n)"
   ]
  },
  {
   "cell_type": "markdown",
   "id": "42804590",
   "metadata": {},
   "source": [
    "7) Write a function that takes two number and returns their least common multiple.<br>\n",
    "For Example lcm(4,6) is 12"
   ]
  },
  {
   "cell_type": "code",
   "execution_count": 4,
   "id": "f876202a",
   "metadata": {},
   "outputs": [
    {
     "name": "stdout",
     "output_type": "stream",
     "text": [
      "Pleace enter your number4\n",
      "Pleace enter your number6\n",
      "LCM of 4 and 6 is 12\n"
     ]
    }
   ],
   "source": [
    "def LCM(x,y):\n",
    "    if x>y:\n",
    "        Max =x\n",
    "    else:\n",
    "        Max=y\n",
    "    V = Max\n",
    "    while True:\n",
    "        if  Max%x==0 and  Max%y==0:\n",
    "            print('LCM of',x,'and',y,'is', Max)\n",
    "            break\n",
    "        else:\n",
    "             Max = Max+V\n",
    "            \n",
    "x =int(input(\"Pleace enter your number\"))\n",
    "y =int(input(\"Pleace enter your number\"))     \n",
    "LCM(x,y)"
   ]
  },
  {
   "cell_type": "markdown",
   "id": "2ac16aaf",
   "metadata": {},
   "source": [
    "8) Write a function that receives two positive integers a and b (a is less than b) and returns a list of odd numbers between a and b (including a and b if applicable) in descending order."
   ]
  },
  {
   "cell_type": "code",
   "execution_count": 88,
   "id": "898501df",
   "metadata": {},
   "outputs": [
    {
     "name": "stdout",
     "output_type": "stream",
     "text": [
      "Pleace enter your number: 4\n",
      "Pleace enter your number: 19\n",
      "5 7 9 11 13 15 17 19 "
     ]
    }
   ],
   "source": [
    "def positiveintegers(a,b):\n",
    "        for num in range(a,b+1):\n",
    "            if a<b and num % 2 != 0:\n",
    "                print(num,end = \" \")   \n",
    "                       \n",
    "a =int(input(\"Pleace enter your number: \"))\n",
    "b =int(input(\"Pleace enter your number: \"))\n",
    "positiveintegers(a,b)\n"
   ]
  },
  {
   "cell_type": "markdown",
   "id": "62f948f0",
   "metadata": {},
   "source": [
    "#### OPTIONAL\n",
    "9) Write a function that receives a list of integers and returns a new list that is the sorted (ascending) version of the original list. You should not use built-in sort () or sorted () functions. Note that the original list should not be changed."
   ]
  },
  {
   "cell_type": "code",
   "execution_count": null,
   "id": "0639d1d7",
   "metadata": {},
   "outputs": [],
   "source": []
  },
  {
   "cell_type": "markdown",
   "id": "ae0f613f",
   "metadata": {},
   "source": [
    "10) Write a function that receives two input lists and returns a new list that contains only unique elements from both lists."
   ]
  },
  {
   "cell_type": "code",
   "execution_count": null,
   "id": "6d318350",
   "metadata": {},
   "outputs": [],
   "source": []
  },
  {
   "cell_type": "markdown",
   "id": "cc110823",
   "metadata": {},
   "source": [
    "11) Write a function called that receives a positive integer n and returns a list of (in ascending order) all prime numbers between 2 and n (including 2 but not n)"
   ]
  },
  {
   "cell_type": "code",
   "execution_count": null,
   "id": "e494ae03",
   "metadata": {},
   "outputs": [],
   "source": []
  }
 ],
 "metadata": {
  "kernelspec": {
   "display_name": "basic-python",
   "language": "python",
   "name": "basic-python"
  },
  "language_info": {
   "codemirror_mode": {
    "name": "ipython",
    "version": 3
   },
   "file_extension": ".py",
   "mimetype": "text/x-python",
   "name": "python",
   "nbconvert_exporter": "python",
   "pygments_lexer": "ipython3",
   "version": "3.7.11"
  }
 },
 "nbformat": 4,
 "nbformat_minor": 5
}
