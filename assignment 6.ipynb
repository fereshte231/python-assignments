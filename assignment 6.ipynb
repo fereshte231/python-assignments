{
 "cells": [
  {
   "cell_type": "code",
   "execution_count": null,
   "id": "ac2b855c",
   "metadata": {},
   "outputs": [],
   "source": [
    "my_string = \"x = {0:%<7d} and y = {1:@>8d}\".format(5, 43)\n",
    "print (my_string)\n",
    "\n",
    "my_string = \"x = {1:*>6.4f} and y = {1:+5.3f}\".format(2.3, -4.12345678)\n",
    "print (my_string)"
   ]
  },
  {
   "cell_type": "code",
   "execution_count": null,
   "id": "d8083ccf",
   "metadata": {},
   "outputs": [],
   "source": [
    "a = \"john\"\n",
    "b = \"happy\"\n",
    "my_string = \"{0:*^10} is {1:+^9s}\".format(a,b)\n",
    "\n",
    "print (my_string)\n",
    "my_string = \"x = {0: 3d} and y = {1:+4d}\".format(223, -45)\n"
   ]
  },
  {
   "cell_type": "code",
   "execution_count": null,
   "id": "a9e4d6f0",
   "metadata": {},
   "outputs": [],
   "source": [
    "a = \"mary\"\n",
    "b = \"fine\"\n",
    "my_string = \"{0:5s} is {1:5s} and {}\".format(a,b)\n",
    "print (my_string)\n",
    "\n",
    "print('X{0:Y<7d}Z'.format(123))\n"
   ]
  },
  {
   "cell_type": "code",
   "execution_count": null,
   "id": "4b2df1ad",
   "metadata": {},
   "outputs": [],
   "source": [
    "print ( \"{1}AA{0}{1}BB\" .format(\"dog\", \"cat\", 4)) \n",
    "\n",
    "print ( \"AA{1:x^5}BB\".format(123,\"dog\") )"
   ]
  },
  {
   "cell_type": "code",
   "execution_count": null,
   "id": "955fbb4c",
   "metadata": {},
   "outputs": [],
   "source": []
  },
  {
   "cell_type": "markdown",
   "id": "c700fffd",
   "metadata": {},
   "source": [
    "1) Write a function that takes a CSV file which contains information about student names and grades for 4 courses and returns a dictionary that contains information about students whose grades in math and chemistry are above 70. the file will be like this<br>\n",
    "\n",
    "first_name, math, physics, chemistry, biology<br>\n",
    "<br>ali,90,94,81,97\n",
    "<br>reza,42,53,65,90\n",
    "<br>sara,52,58,57,98\n",
    "<br>sima,73,73,83,91\n",
    "\n",
    "output_dict = {'ali': [90.0, 94.0, 81.0, 97.0],\n",
    "                'sima': [73.0, 73.0, 83.0, 91.0]}"
   ]
  },
  {
   "cell_type": "code",
   "execution_count": null,
   "id": "afd1691d",
   "metadata": {},
   "outputs": [],
   "source": []
  },
  {
   "cell_type": "markdown",
   "id": "d446f6ae",
   "metadata": {},
   "source": [
    "2) Write a function that receives a file as an input, the file contains information about how much people consume egg and meat, and returns a dictionary that contains exactly the strings \"egg\" and \"meat\" as keys and floating point values in a list as Values. Each line of the file may begin with an \"e\" or a \"m\" denoting egg or meat, respectively. For example, if the contents of the file are as follows:<br>\n",
    "m 0 0 0<br>\n",
    "e 2 5 1<br>\n",
    "e 3 5 4<br>\n",
    "m 1 0 0<br>\n",
    "e 5 3 1<br>\n",
    "m 0 1 0<br>\n",
    "e 2 4 5<br>\n",
    "\n",
    "output_dict = {'meat': [[0.0, 0.0, 0.0], [1.0, 0.0, 0.0], [0.0, 1.0, 0.0]],\n",
    "            'egg': [[2.0, 5.0, 1.0], [3.0, 5.0, 4.0], [5.0, 3.0, 1.0], [2.0, 4.0, 5.0]]}"
   ]
  },
  {
   "cell_type": "code",
   "execution_count": null,
   "id": "e13d8c7a",
   "metadata": {},
   "outputs": [],
   "source": []
  },
  {
   "cell_type": "markdown",
   "id": "9c6227b1",
   "metadata": {},
   "source": [
    "3) Write a function that takes a filename as the input argument and creates a nested dictionary and returns it. The keys in this dictionary should be surnames, and the values should be dictionaries that contain lowercase names as keys and ages as integers. Note that the data may contain several people with the same last name, but their first names are unique. The file contains comma-separated values (CSV), for example if the contents of the file are as follows:\n",
    "\n",
    "first_name, last_name, age\n",
    "\n",
    "Matthew,Abbey,65<br>\n",
    "Chloe,Orion,49<br>\n",
    "Yohaan,Adams,54<br>\n",
    "Krishna,Adams,35<br>\n",
    "Resa,Orion,86<br>\n",
    "Lucas,Abbey,60<br>\n",
    "Courtney,Abbey,67<br>\n",
    "Joseph,Orion,45<br>\n",
    "Mark,Abbey,60<br>\n",
    "Eva,Orion,76<br>\n",
    "\n",
    "{'Abbey': {'Matthew': 65, 'Courtney': 67, 'Lucas': 60, 'Mark': 60},\n",
    " 'Orion': {'Chloe': 49, 'Resa': 86, 'Eva': 76, 'Joseph': 45},\n",
    " 'Adams': {'Krishna': 35, 'Yohaan': 54}}\n"
   ]
  },
  {
   "cell_type": "code",
   "execution_count": null,
   "id": "04da623f",
   "metadata": {},
   "outputs": [],
   "source": []
  },
  {
   "cell_type": "markdown",
   "id": "3e5a5d84",
   "metadata": {},
   "source": [
    "4) Part 1: Read file and create dictionary\n",
    "Write a function named create_grades_dict that accepts a string as the name of a file. Assuming that the file is a text file\n",
    "which includes name and grades of students, your function should read the file and return a dictionary with the exact format\n",
    "as shown below: The format of the input file is:\n",
    "\n",
    "Student ID, Last_name,  Test_x, grade, Test_x, grade, ......\n",
    "\n",
    "An example of the input file is shown below. Sample Input Output Assuming that the input file \"student_grades.txt\"\n",
    "contains the following text:\n",
    "\n",
    "1000123456, Rubble, Test_3,  80, Test_4 , 80<br>\n",
    "1000123459, Chipmunk, Test_4, 96, Test_1, 86 , Quiz_1 , 88\n",
    "\n",
    "Notes:\n",
    "Items are seperated by comma and one or more spaces may exist between the items.\n",
    "The \"ID\" of each student is unique. Two students may have the same Name (but IDs will be different)\n",
    "The \"Name\" of each student will only include a last name with no punctuation. Maximum of 15 characters.\n",
    "There will be an integer grade for each test (0-100)\n",
    "There are only four valid tests, i.e. Test_1, Test_2, Test_3, Test_4. There may be other grades in the file and\n",
    "you should ignore those grades.\n",
    "Each student may have missing grade(s) for the tests. A missing grades should be considered as 0.\n",
    "Grades may not be in order i.e. Test_3 may appear before Test_1.\n",
    "Your function should read the input file, calculate the average test grade for each student and\n",
    "return a dictionary with the following format:\n",
    "\n",
    "{'Student_ID': [Last_name,Test_1_grade,Test_2_grade,Test_3_grade,Test_4_grade,average], ...}\n",
    "\n",
    "For example in the case of sample input file shown above, your function should return the following dictionary:\n",
    "\n",
    "{'1000123456': ['Rubble', 0, 0, 80, 80, 40.0], '1000123459': ['Chipmunk', 86, 0, 0, 96, 45.5]}\n",
    "\n",
    "-------------------------------------------------------------------------\n",
    " Part 2: Print grades\n",
    " \n",
    " Write a function called print_grades that accepts the name of a file (string) as input argument.\n",
    " Assuming the format of the file is the same as the file in part 1, your function should call the function\n",
    " that you developed in part 1 to read the file and create the grades dictionary. Using the grades dictionary,\n",
    " your function should print the names, grades, and averages of students with the exact format shown below.\n",
    " Notice that you are asked to write a function (NOT a program) and that function prints the grades.\n",
    " Your function should return None after printing the grades.\n",
    "\n",
    "     Sample Input file:\n",
    "\n",
    "     1000123456, Rubble, Test_3, 80, Test_4, 80, quiz, 90\n",
    "     1000123210, Bunny, Test_2, 100, Test_1, 100, Test_3, 100, Test_4, 100\n",
    "     1000123458, Duck, Test_1, 86, Test_5, 100, Test_2, 93, Test_4, 94\n",
    " \n",
    " Your program's output should be:\n",
    "\n",
    "        ID     |       Name       | Test_1 | Test_2 | Test_3 | Test_4 |  Avg.  |\n",
    "    1000123210 | Bunny            |    100 |    100 |    100 |    100 | 100.00 |\n",
    "    1000123456 | Rubble           |      0 |      0 |     80 |     80 |  40.00 |\n",
    "    1000123458 | Duck             |     86 |     93 |      0 |     94 |  68.25 |\n",
    "\n",
    " Notes:\n",
    " \n",
    " Column titles are all centered\n",
    " The printed output is sorted in ascending order based on the student IDs\n",
    " Each column is seperated from a neighboring column(s) by three characters ' | ' (space vertical_bar space).\n",
    " IDs are always 10 characters and they are left justified (not counting the boundary characters)\n",
    " Names are left justified (maximum of 16 characters, not counting the boundary characters).\n",
    " Grades and averages are right justified. The width of the columns for the grades and averages is 6 characters\n",
    " (not counting the boundary characters).\n",
    " Averages are right justified with two digits of accuracy after the decimal point.\n",
    " Hint: Use the function which you developed in part 1 to read the input file and create a dictionary.\n",
    " Use .format() to format the output."
   ]
  },
  {
   "cell_type": "code",
   "execution_count": null,
   "id": "59ab0cf8",
   "metadata": {},
   "outputs": [],
   "source": []
  },
  {
   "cell_type": "markdown",
   "id": "b1642d1e",
   "metadata": {},
   "source": [
    "5) Write a function called calculate_expenses that takes a filename as an argument. The file contains information about how much a person spends on items. Your function must return a list of sorts by item name. Each tuple contains the name of the item and the total cost of that item is shown as follows:\n",
    "\n",
    "milk, 2.35<br>\n",
    "bread, 1.95<br>\n",
    "chips, 2.54<br>\n",
    "milk, 2.38<br>\n",
    "milk, 2.31<br>\n",
    "bread, 1.90<br>\n",
    "\n",
    "Note that each line of the file contains only one item and the price of that item is separated by a comma.<br> \n",
    "tuples are sorted by item name, for example, bread comes before chips, which comes before milk.<br>\n",
    "Total costs are strings that start with a \\\\$ and they are two digits after the decimal point.<br>\n",
    "Tip: Use \"$ {:2f}\" to properly create and format strings for the total cost.\n",
    "\n",
    "output should be:\n",
    "\n",
    "[('bread','\\\\$3.85'), ('chips', '\\\\$2.54'), ('milk', '\\\\$7.04')]\n"
   ]
  },
  {
   "cell_type": "code",
   "execution_count": null,
   "id": "04b2065c",
   "metadata": {},
   "outputs": [],
   "source": []
  }
 ],
 "metadata": {
  "kernelspec": {
   "display_name": "Python 3.8 (tensorflow)",
   "language": "python",
   "name": "tensorflow"
  },
  "language_info": {
   "codemirror_mode": {
    "name": "ipython",
    "version": 3
   },
   "file_extension": ".py",
   "mimetype": "text/x-python",
   "name": "python",
   "nbconvert_exporter": "python",
   "pygments_lexer": "ipython3",
   "version": "3.8.10"
  }
 },
 "nbformat": 4,
 "nbformat_minor": 5
}
